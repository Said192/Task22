{
 "cells": [
  {
   "cell_type": "markdown",
   "id": "33c7c24a-899d-43ca-9ed4-469648611dee",
   "metadata": {},
   "source": [
    "## Import libraries\n"
   ]
  },
  {
   "cell_type": "code",
   "execution_count": 1,
   "id": "39156ced-9388-4d29-a53a-881ff29c940b",
   "metadata": {},
   "outputs": [],
   "source": [
    "import pandas as pd\n",
    "import numpy as np\n",
    "from sklearn.preprocessing import LabelEncoder, OneHotEncoder, MinMaxScaler"
   ]
  },
  {
   "cell_type": "markdown",
   "id": "1136b733-91b3-403b-aa1b-5db1664001cc",
   "metadata": {},
   "source": [
    "## Load dataset (adjust the path if needed)"
   ]
  },
  {
   "cell_type": "code",
   "execution_count": 2,
   "id": "29627c2b-8753-49d4-9bbc-b7a503c4b558",
   "metadata": {},
   "outputs": [],
   "source": [
    "df = pd.read_csv('titanic.csv')"
   ]
  },
  {
   "cell_type": "code",
   "execution_count": 14,
   "id": "3f4ca9b6-578d-4c24-975a-bb945bdcc7f1",
   "metadata": {},
   "outputs": [
    {
     "data": {
      "text/html": [
       "<div>\n",
       "<style scoped>\n",
       "    .dataframe tbody tr th:only-of-type {\n",
       "        vertical-align: middle;\n",
       "    }\n",
       "\n",
       "    .dataframe tbody tr th {\n",
       "        vertical-align: top;\n",
       "    }\n",
       "\n",
       "    .dataframe thead th {\n",
       "        text-align: right;\n",
       "    }\n",
       "</style>\n",
       "<table border=\"1\" class=\"dataframe\">\n",
       "  <thead>\n",
       "    <tr style=\"text-align: right;\">\n",
       "      <th></th>\n",
       "      <th>PassengerId</th>\n",
       "      <th>Survived</th>\n",
       "      <th>Pclass</th>\n",
       "      <th>Name</th>\n",
       "      <th>Sex</th>\n",
       "      <th>Age</th>\n",
       "      <th>SibSp</th>\n",
       "      <th>Parch</th>\n",
       "      <th>Ticket</th>\n",
       "      <th>Fare</th>\n",
       "      <th>Cabin</th>\n",
       "      <th>Embarked</th>\n",
       "    </tr>\n",
       "  </thead>\n",
       "  <tbody>\n",
       "    <tr>\n",
       "      <th>0</th>\n",
       "      <td>1</td>\n",
       "      <td>0</td>\n",
       "      <td>3</td>\n",
       "      <td>Braund, Mr. Owen Harris</td>\n",
       "      <td>male</td>\n",
       "      <td>22.0</td>\n",
       "      <td>1</td>\n",
       "      <td>0</td>\n",
       "      <td>A/5 21171</td>\n",
       "      <td>7.2500</td>\n",
       "      <td>NaN</td>\n",
       "      <td>S</td>\n",
       "    </tr>\n",
       "    <tr>\n",
       "      <th>1</th>\n",
       "      <td>2</td>\n",
       "      <td>1</td>\n",
       "      <td>1</td>\n",
       "      <td>Cumings, Mrs. John Bradley (Florence Briggs Th...</td>\n",
       "      <td>female</td>\n",
       "      <td>38.0</td>\n",
       "      <td>1</td>\n",
       "      <td>0</td>\n",
       "      <td>PC 17599</td>\n",
       "      <td>71.2833</td>\n",
       "      <td>C85</td>\n",
       "      <td>C</td>\n",
       "    </tr>\n",
       "    <tr>\n",
       "      <th>2</th>\n",
       "      <td>3</td>\n",
       "      <td>1</td>\n",
       "      <td>3</td>\n",
       "      <td>Heikkinen, Miss. Laina</td>\n",
       "      <td>female</td>\n",
       "      <td>26.0</td>\n",
       "      <td>0</td>\n",
       "      <td>0</td>\n",
       "      <td>STON/O2. 3101282</td>\n",
       "      <td>7.9250</td>\n",
       "      <td>NaN</td>\n",
       "      <td>S</td>\n",
       "    </tr>\n",
       "    <tr>\n",
       "      <th>3</th>\n",
       "      <td>4</td>\n",
       "      <td>1</td>\n",
       "      <td>1</td>\n",
       "      <td>Futrelle, Mrs. Jacques Heath (Lily May Peel)</td>\n",
       "      <td>female</td>\n",
       "      <td>35.0</td>\n",
       "      <td>1</td>\n",
       "      <td>0</td>\n",
       "      <td>113803</td>\n",
       "      <td>53.1000</td>\n",
       "      <td>C123</td>\n",
       "      <td>S</td>\n",
       "    </tr>\n",
       "    <tr>\n",
       "      <th>4</th>\n",
       "      <td>5</td>\n",
       "      <td>0</td>\n",
       "      <td>3</td>\n",
       "      <td>Allen, Mr. William Henry</td>\n",
       "      <td>male</td>\n",
       "      <td>35.0</td>\n",
       "      <td>0</td>\n",
       "      <td>0</td>\n",
       "      <td>373450</td>\n",
       "      <td>8.0500</td>\n",
       "      <td>NaN</td>\n",
       "      <td>S</td>\n",
       "    </tr>\n",
       "  </tbody>\n",
       "</table>\n",
       "</div>"
      ],
      "text/plain": [
       "   PassengerId  Survived  Pclass  \\\n",
       "0            1         0       3   \n",
       "1            2         1       1   \n",
       "2            3         1       3   \n",
       "3            4         1       1   \n",
       "4            5         0       3   \n",
       "\n",
       "                                                Name     Sex   Age  SibSp  \\\n",
       "0                            Braund, Mr. Owen Harris    male  22.0      1   \n",
       "1  Cumings, Mrs. John Bradley (Florence Briggs Th...  female  38.0      1   \n",
       "2                             Heikkinen, Miss. Laina  female  26.0      0   \n",
       "3       Futrelle, Mrs. Jacques Heath (Lily May Peel)  female  35.0      1   \n",
       "4                           Allen, Mr. William Henry    male  35.0      0   \n",
       "\n",
       "   Parch            Ticket     Fare Cabin Embarked  \n",
       "0      0         A/5 21171   7.2500   NaN        S  \n",
       "1      0          PC 17599  71.2833   C85        C  \n",
       "2      0  STON/O2. 3101282   7.9250   NaN        S  \n",
       "3      0            113803  53.1000  C123        S  \n",
       "4      0            373450   8.0500   NaN        S  "
      ]
     },
     "execution_count": 14,
     "metadata": {},
     "output_type": "execute_result"
    }
   ],
   "source": [
    "df.head()"
   ]
  },
  {
   "cell_type": "markdown",
   "id": "ec9b45a7-7c45-48dc-aca7-35ec7c844696",
   "metadata": {},
   "source": [
    "## Fill missing Age with median\n"
   ]
  },
  {
   "cell_type": "code",
   "execution_count": 10,
   "id": "a6413603-5fb8-4bff-ab32-aa2ae6419f41",
   "metadata": {},
   "outputs": [],
   "source": [
    "import random\n",
    "\n",
    "# Randomly select 10 row indices\n",
    "random_indices = random.sample(list(df.index), 10)\n",
    "\n",
    "# Set Age to NaN in those rows\n",
    "df.loc[random_indices, 'Age'] = np.nan"
   ]
  },
  {
   "cell_type": "code",
   "execution_count": 11,
   "id": "4b1de382-b215-427b-bd74-657fb86be402",
   "metadata": {},
   "outputs": [
    {
     "name": "stdout",
     "output_type": "stream",
     "text": [
      "PassengerId      0\n",
      "Survived         0\n",
      "Pclass           0\n",
      "Name             0\n",
      "Sex              0\n",
      "Age             10\n",
      "SibSp            0\n",
      "Parch            0\n",
      "Ticket           0\n",
      "Fare             0\n",
      "Cabin          687\n",
      "Embarked         2\n",
      "dtype: int64\n"
     ]
    }
   ],
   "source": [
    "# Show count of missing (NaN) values in each column\n",
    "print(df.isnull().sum())"
   ]
  },
  {
   "cell_type": "code",
   "execution_count": 12,
   "id": "080d214f-be2d-4eff-81be-775876ca5012",
   "metadata": {},
   "outputs": [
    {
     "name": "stderr",
     "output_type": "stream",
     "text": [
      "C:\\Users\\swali\\AppData\\Local\\Temp\\ipykernel_404\\2404743633.py:1: FutureWarning: A value is trying to be set on a copy of a DataFrame or Series through chained assignment using an inplace method.\n",
      "The behavior will change in pandas 3.0. This inplace method will never work because the intermediate object on which we are setting values always behaves as a copy.\n",
      "\n",
      "For example, when doing 'df[col].method(value, inplace=True)', try using 'df.method({col: value}, inplace=True)' or df[col] = df[col].method(value) instead, to perform the operation inplace on the original object.\n",
      "\n",
      "\n",
      "  df['Age'].fillna(df['Age'].median(), inplace=True)\n"
     ]
    }
   ],
   "source": [
    "df['Age'].fillna(df['Age'].median(), inplace=True)\n",
    "\n"
   ]
  },
  {
   "cell_type": "code",
   "execution_count": 13,
   "id": "aa789960-998e-490b-bd92-4b25c248cbec",
   "metadata": {},
   "outputs": [
    {
     "name": "stdout",
     "output_type": "stream",
     "text": [
      "PassengerId      0\n",
      "Survived         0\n",
      "Pclass           0\n",
      "Name             0\n",
      "Sex              0\n",
      "Age              0\n",
      "SibSp            0\n",
      "Parch            0\n",
      "Ticket           0\n",
      "Fare             0\n",
      "Cabin          687\n",
      "Embarked         2\n",
      "dtype: int64\n"
     ]
    }
   ],
   "source": [
    "# Show count of missing (NaN) values in each column\n",
    "print(df.isnull().sum())"
   ]
  },
  {
   "cell_type": "markdown",
   "id": "7f533eae-de1f-4a80-90f4-2045c4bdd1c3",
   "metadata": {},
   "source": [
    "## Fill missing Embarked with mode"
   ]
  },
  {
   "cell_type": "code",
   "execution_count": 15,
   "id": "486b475b-0099-43ff-8841-c548f2df6cd3",
   "metadata": {},
   "outputs": [
    {
     "name": "stderr",
     "output_type": "stream",
     "text": [
      "C:\\Users\\swali\\AppData\\Local\\Temp\\ipykernel_404\\411043493.py:1: FutureWarning: A value is trying to be set on a copy of a DataFrame or Series through chained assignment using an inplace method.\n",
      "The behavior will change in pandas 3.0. This inplace method will never work because the intermediate object on which we are setting values always behaves as a copy.\n",
      "\n",
      "For example, when doing 'df[col].method(value, inplace=True)', try using 'df.method({col: value}, inplace=True)' or df[col] = df[col].method(value) instead, to perform the operation inplace on the original object.\n",
      "\n",
      "\n",
      "  df['Embarked'].fillna(df['Embarked'].mode()[0], inplace=True)\n"
     ]
    }
   ],
   "source": [
    "df['Embarked'].fillna(df['Embarked'].mode()[0], inplace=True)\n"
   ]
  },
  {
   "cell_type": "code",
   "execution_count": 16,
   "id": "a9b5636d-dd04-4f3e-bb62-0e4beed8fa2c",
   "metadata": {},
   "outputs": [
    {
     "name": "stdout",
     "output_type": "stream",
     "text": [
      "PassengerId      0\n",
      "Survived         0\n",
      "Pclass           0\n",
      "Name             0\n",
      "Sex              0\n",
      "Age              0\n",
      "SibSp            0\n",
      "Parch            0\n",
      "Ticket           0\n",
      "Fare             0\n",
      "Cabin          687\n",
      "Embarked         0\n",
      "dtype: int64\n"
     ]
    }
   ],
   "source": [
    "print(df.isnull().sum())"
   ]
  },
  {
   "cell_type": "code",
   "execution_count": 17,
   "id": "120d1291-9500-487c-a9e3-6084116ef9c5",
   "metadata": {},
   "outputs": [],
   "source": [
    "# Randomly select 10 row indices\n",
    "random_indices = random.sample(list(df.index), 10)\n",
    "\n",
    "# Set Fare to NaN in those rows\n",
    "df.loc[random_indices, 'Fare'] = np.nan"
   ]
  },
  {
   "cell_type": "code",
   "execution_count": 19,
   "id": "95c442dc-af15-4cd3-8fa6-de1ce2681bce",
   "metadata": {},
   "outputs": [
    {
     "name": "stdout",
     "output_type": "stream",
     "text": [
      "PassengerId      0\n",
      "Survived         0\n",
      "Pclass           0\n",
      "Name             0\n",
      "Sex              0\n",
      "Age              0\n",
      "SibSp            0\n",
      "Parch            0\n",
      "Ticket           0\n",
      "Fare            10\n",
      "Cabin          687\n",
      "Embarked         0\n",
      "dtype: int64\n"
     ]
    }
   ],
   "source": [
    "print(df.isnull().sum())"
   ]
  },
  {
   "cell_type": "markdown",
   "id": "131c7efb-98bc-4eb2-972f-a1d98c813407",
   "metadata": {},
   "source": [
    "## Fill missing Fare with median"
   ]
  },
  {
   "cell_type": "code",
   "execution_count": 20,
   "id": "29e72b5e-2687-4313-9b38-875a9eae2f1b",
   "metadata": {},
   "outputs": [
    {
     "name": "stderr",
     "output_type": "stream",
     "text": [
      "C:\\Users\\swali\\AppData\\Local\\Temp\\ipykernel_404\\146823877.py:1: FutureWarning: A value is trying to be set on a copy of a DataFrame or Series through chained assignment using an inplace method.\n",
      "The behavior will change in pandas 3.0. This inplace method will never work because the intermediate object on which we are setting values always behaves as a copy.\n",
      "\n",
      "For example, when doing 'df[col].method(value, inplace=True)', try using 'df.method({col: value}, inplace=True)' or df[col] = df[col].method(value) instead, to perform the operation inplace on the original object.\n",
      "\n",
      "\n",
      "  df['Fare'].fillna(df['Fare'].median(), inplace=True)\n"
     ]
    }
   ],
   "source": [
    "df['Fare'].fillna(df['Fare'].median(), inplace=True)\n"
   ]
  },
  {
   "cell_type": "code",
   "execution_count": 21,
   "id": "ce6766fd-6b98-436b-9b35-7ab5937a6114",
   "metadata": {},
   "outputs": [
    {
     "name": "stdout",
     "output_type": "stream",
     "text": [
      "PassengerId      0\n",
      "Survived         0\n",
      "Pclass           0\n",
      "Name             0\n",
      "Sex              0\n",
      "Age              0\n",
      "SibSp            0\n",
      "Parch            0\n",
      "Ticket           0\n",
      "Fare             0\n",
      "Cabin          687\n",
      "Embarked         0\n",
      "dtype: int64\n"
     ]
    }
   ],
   "source": [
    "print(df.isnull().sum())"
   ]
  },
  {
   "cell_type": "markdown",
   "id": "2032b50e-679a-49c4-972c-9ea1b9f74f48",
   "metadata": {},
   "source": [
    "## Label Encoding for Sex"
   ]
  },
  {
   "cell_type": "code",
   "execution_count": 22,
   "id": "377b9b66-f6b2-4881-bcc7-0470308f83ab",
   "metadata": {},
   "outputs": [],
   "source": [
    "le = LabelEncoder()\n",
    "df['Sex'] = le.fit_transform(df['Sex'])"
   ]
  },
  {
   "cell_type": "markdown",
   "id": "e193280d-62fb-4b25-852f-7c971d793e75",
   "metadata": {},
   "source": [
    "## One-hot encoding for Embarked"
   ]
  },
  {
   "cell_type": "code",
   "execution_count": 25,
   "id": "cb8b5473-1584-4b3d-abe2-6b4bc023fcb1",
   "metadata": {},
   "outputs": [],
   "source": [
    "df = pd.get_dummies(df, columns=['Embarked'], prefix='Embarked')\n"
   ]
  },
  {
   "cell_type": "markdown",
   "id": "8b34c265-99ea-4de2-ba60-c04a81f3aea3",
   "metadata": {},
   "source": [
    "## Normalize numerical values"
   ]
  },
  {
   "cell_type": "code",
   "execution_count": 26,
   "id": "c5926126-4ff0-47be-b507-3e776a4ed12b",
   "metadata": {},
   "outputs": [],
   "source": [
    "scaler = MinMaxScaler()\n",
    "df[['Age', 'Fare']] = scaler.fit_transform(df[['Age', 'Fare']])"
   ]
  },
  {
   "cell_type": "markdown",
   "id": "48140121-f6d4-4703-b522-4b98df1ccffc",
   "metadata": {},
   "source": [
    "## Extract title from Name"
   ]
  },
  {
   "cell_type": "code",
   "execution_count": 27,
   "id": "700f44c2-a7e6-497a-8595-64d02c5923dd",
   "metadata": {},
   "outputs": [],
   "source": [
    "df['Title'] = df['Name'].str.extract(' ([A-Za-z]+)\\.', expand=False)\n"
   ]
  },
  {
   "cell_type": "markdown",
   "id": "37c5534b-8f6c-47ac-b099-8d7992ec5a28",
   "metadata": {},
   "source": [
    "## Simplify rare titles"
   ]
  },
  {
   "cell_type": "code",
   "execution_count": 28,
   "id": "0298c792-776a-4757-8e72-efc4f73f0c45",
   "metadata": {},
   "outputs": [],
   "source": [
    "rare_titles = df['Title'].value_counts()[df['Title'].value_counts() < 10].index\n",
    "df['Title'] = df['Title'].replace(rare_titles, 'Rare')"
   ]
  },
  {
   "cell_type": "markdown",
   "id": "7c53c246-0df4-48a7-91bb-549c145226af",
   "metadata": {},
   "source": [
    "## Encode Title"
   ]
  },
  {
   "cell_type": "code",
   "execution_count": 29,
   "id": "f261bdad-a6e9-4dab-bd2b-58a88b2b7c67",
   "metadata": {},
   "outputs": [],
   "source": [
    "df['Title'] = le.fit_transform(df['Title'])\n"
   ]
  },
  {
   "cell_type": "markdown",
   "id": "2bee1b48-9c8c-4b91-9f03-6764a6cd9963",
   "metadata": {},
   "source": [
    "## Create FamilySize feature"
   ]
  },
  {
   "cell_type": "code",
   "execution_count": 30,
   "id": "849acb5c-25df-42e9-b36a-f66b0c73e3e9",
   "metadata": {},
   "outputs": [],
   "source": [
    "df['FamilySize'] = df['SibSp'] + df['Parch'] + 1\n"
   ]
  },
  {
   "cell_type": "markdown",
   "id": "c8d38209-71f2-4fd3-a993-2188d4f6aab7",
   "metadata": {},
   "source": [
    "## Final preview"
   ]
  },
  {
   "cell_type": "code",
   "execution_count": 31,
   "id": "11b6aaee-93e3-4b21-a527-e3982a56aeb1",
   "metadata": {},
   "outputs": [
    {
     "name": "stdout",
     "output_type": "stream",
     "text": [
      "   PassengerId  Survived  Pclass  \\\n",
      "0            1         0       3   \n",
      "1            2         1       1   \n",
      "2            3         1       3   \n",
      "3            4         1       1   \n",
      "4            5         0       3   \n",
      "\n",
      "                                                Name  Sex       Age  SibSp  \\\n",
      "0                            Braund, Mr. Owen Harris    1  0.271174      1   \n",
      "1  Cumings, Mrs. John Bradley (Florence Briggs Th...    0  0.472229      1   \n",
      "2                             Heikkinen, Miss. Laina    0  0.321438      0   \n",
      "3       Futrelle, Mrs. Jacques Heath (Lily May Peel)    0  0.434531      1   \n",
      "4                           Allen, Mr. William Henry    1  0.434531      0   \n",
      "\n",
      "   Parch            Ticket      Fare Cabin  Embarked_C  Embarked_Q  \\\n",
      "0      0         A/5 21171  0.014151   NaN       False       False   \n",
      "1      0          PC 17599  0.139136   C85        True       False   \n",
      "2      0  STON/O2. 3101282  0.015469   NaN       False       False   \n",
      "3      0            113803  0.103644  C123       False       False   \n",
      "4      0            373450  0.015713   NaN       False       False   \n",
      "\n",
      "   Embarked_S  Title  FamilySize  \n",
      "0        True      2           2  \n",
      "1       False      3           2  \n",
      "2        True      1           1  \n",
      "3        True      3           2  \n",
      "4        True      2           1  \n"
     ]
    }
   ],
   "source": [
    "print(df.head())\n"
   ]
  },
  {
   "cell_type": "code",
   "execution_count": null,
   "id": "09a8efa3-6b42-4bc1-b86f-c5e3998dde59",
   "metadata": {},
   "outputs": [],
   "source": []
  }
 ],
 "metadata": {
  "kernelspec": {
   "display_name": "Python 3 (ipykernel)",
   "language": "python",
   "name": "python3"
  },
  "language_info": {
   "codemirror_mode": {
    "name": "ipython",
    "version": 3
   },
   "file_extension": ".py",
   "mimetype": "text/x-python",
   "name": "python",
   "nbconvert_exporter": "python",
   "pygments_lexer": "ipython3",
   "version": "3.10.18"
  }
 },
 "nbformat": 4,
 "nbformat_minor": 5
}
